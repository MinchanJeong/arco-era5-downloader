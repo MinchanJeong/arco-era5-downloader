{
 "cells": [
  {
   "cell_type": "code",
   "execution_count": 1,
   "metadata": {},
   "outputs": [],
   "source": [
    "import xarray as xr"
   ]
  },
  {
   "cell_type": "code",
   "execution_count": 2,
   "metadata": {},
   "outputs": [],
   "source": [
    "ds = xr.open_zarr('/media/user/z/minchan/era5/GC_ERA5/GC_ERA5.zarr')"
   ]
  },
  {
   "cell_type": "code",
   "execution_count": null,
   "metadata": {},
   "outputs": [
    {
     "ename": "NotImplementedError",
     "evalue": "'item' is not yet a valid method on dask arrays",
     "output_type": "error",
     "traceback": [
      "\u001b[0;31m---------------------------------------------------------------------------\u001b[0m",
      "\u001b[0;31mAttributeError\u001b[0m                            Traceback (most recent call last)",
      "File \u001b[0;32m~/anaconda3/envs/graphcast/lib/python3.10/site-packages/xarray/core/ops.py:192\u001b[0m, in \u001b[0;36m_call_possibly_missing_method\u001b[0;34m(arg, name, args, kwargs)\u001b[0m\n\u001b[1;32m    191\u001b[0m \u001b[38;5;28;01mtry\u001b[39;00m:\n\u001b[0;32m--> 192\u001b[0m     method \u001b[38;5;241m=\u001b[39m \u001b[38;5;28;43mgetattr\u001b[39;49m\u001b[43m(\u001b[49m\u001b[43marg\u001b[49m\u001b[43m,\u001b[49m\u001b[43m \u001b[49m\u001b[43mname\u001b[49m\u001b[43m)\u001b[49m\n\u001b[1;32m    193\u001b[0m \u001b[38;5;28;01mexcept\u001b[39;00m \u001b[38;5;167;01mAttributeError\u001b[39;00m:\n",
      "\u001b[0;31mAttributeError\u001b[0m: 'Array' object has no attribute 'item'",
      "\nDuring handling of the above exception, another exception occurred:\n",
      "\u001b[0;31mNotImplementedError\u001b[0m                       Traceback (most recent call last)",
      "Cell \u001b[0;32mIn[3], line 7\u001b[0m\n\u001b[1;32m      5\u001b[0m \u001b[38;5;28;01mfor\u001b[39;00m var_name \u001b[38;5;129;01min\u001b[39;00m ds\u001b[38;5;241m.\u001b[39mdata_vars:\n\u001b[1;32m      6\u001b[0m     data \u001b[38;5;241m=\u001b[39m ds[var_name]\n\u001b[0;32m----> 7\u001b[0m     nan_count \u001b[38;5;241m+\u001b[39m\u001b[38;5;241m=\u001b[39m \u001b[43mdata\u001b[49m\u001b[38;5;241;43m.\u001b[39;49m\u001b[43misnull\u001b[49m\u001b[43m(\u001b[49m\u001b[43m)\u001b[49m\u001b[38;5;241;43m.\u001b[39;49m\u001b[43msum\u001b[49m\u001b[43m(\u001b[49m\u001b[43m)\u001b[49m\u001b[38;5;241;43m.\u001b[39;49m\u001b[43mitem\u001b[49m\u001b[43m(\u001b[49m\u001b[43m)\u001b[49m  \u001b[38;5;66;03m# NaN 값 개수 합산\u001b[39;00m\n\u001b[1;32m      8\u001b[0m     total_count \u001b[38;5;241m+\u001b[39m\u001b[38;5;241m=\u001b[39m data\u001b[38;5;241m.\u001b[39msize  \u001b[38;5;66;03m# 전체 데이터 개수 합산\u001b[39;00m\n\u001b[1;32m     10\u001b[0m nan_ratio \u001b[38;5;241m=\u001b[39m nan_count \u001b[38;5;241m/\u001b[39m total_count\n",
      "File \u001b[0;32m~/anaconda3/envs/graphcast/lib/python3.10/site-packages/xarray/core/ops.py:204\u001b[0m, in \u001b[0;36m_values_method_wrapper.<locals>.func\u001b[0;34m(self, *args, **kwargs)\u001b[0m\n\u001b[1;32m    203\u001b[0m \u001b[38;5;28;01mdef\u001b[39;00m \u001b[38;5;21mfunc\u001b[39m(\u001b[38;5;28mself\u001b[39m, \u001b[38;5;241m*\u001b[39margs, \u001b[38;5;241m*\u001b[39m\u001b[38;5;241m*\u001b[39mkwargs):\n\u001b[0;32m--> 204\u001b[0m     \u001b[38;5;28;01mreturn\u001b[39;00m \u001b[43m_call_possibly_missing_method\u001b[49m\u001b[43m(\u001b[49m\u001b[38;5;28;43mself\u001b[39;49m\u001b[38;5;241;43m.\u001b[39;49m\u001b[43mdata\u001b[49m\u001b[43m,\u001b[49m\u001b[43m \u001b[49m\u001b[43mname\u001b[49m\u001b[43m,\u001b[49m\u001b[43m \u001b[49m\u001b[43margs\u001b[49m\u001b[43m,\u001b[49m\u001b[43m \u001b[49m\u001b[43mkwargs\u001b[49m\u001b[43m)\u001b[49m\n",
      "File \u001b[0;32m~/anaconda3/envs/graphcast/lib/python3.10/site-packages/xarray/core/ops.py:194\u001b[0m, in \u001b[0;36m_call_possibly_missing_method\u001b[0;34m(arg, name, args, kwargs)\u001b[0m\n\u001b[1;32m    192\u001b[0m     method \u001b[38;5;241m=\u001b[39m \u001b[38;5;28mgetattr\u001b[39m(arg, name)\n\u001b[1;32m    193\u001b[0m \u001b[38;5;28;01mexcept\u001b[39;00m \u001b[38;5;167;01mAttributeError\u001b[39;00m:\n\u001b[0;32m--> 194\u001b[0m     \u001b[43mduck_array_ops\u001b[49m\u001b[38;5;241;43m.\u001b[39;49m\u001b[43mfail_on_dask_array_input\u001b[49m\u001b[43m(\u001b[49m\u001b[43marg\u001b[49m\u001b[43m,\u001b[49m\u001b[43m \u001b[49m\u001b[43mfunc_name\u001b[49m\u001b[38;5;241;43m=\u001b[39;49m\u001b[43mname\u001b[49m\u001b[43m)\u001b[49m\n\u001b[1;32m    195\u001b[0m     \u001b[38;5;28;01mif\u001b[39;00m \u001b[38;5;28mhasattr\u001b[39m(arg, \u001b[38;5;124m\"\u001b[39m\u001b[38;5;124mdata\u001b[39m\u001b[38;5;124m\"\u001b[39m):\n\u001b[1;32m    196\u001b[0m         duck_array_ops\u001b[38;5;241m.\u001b[39mfail_on_dask_array_input(arg\u001b[38;5;241m.\u001b[39mdata, func_name\u001b[38;5;241m=\u001b[39mname)\n",
      "File \u001b[0;32m~/anaconda3/envs/graphcast/lib/python3.10/site-packages/xarray/core/duck_array_ops.py:89\u001b[0m, in \u001b[0;36mfail_on_dask_array_input\u001b[0;34m(values, msg, func_name)\u001b[0m\n\u001b[1;32m     87\u001b[0m \u001b[38;5;28;01mif\u001b[39;00m func_name \u001b[38;5;129;01mis\u001b[39;00m \u001b[38;5;28;01mNone\u001b[39;00m:\n\u001b[1;32m     88\u001b[0m     func_name \u001b[38;5;241m=\u001b[39m inspect\u001b[38;5;241m.\u001b[39mstack()[\u001b[38;5;241m1\u001b[39m][\u001b[38;5;241m3\u001b[39m]\n\u001b[0;32m---> 89\u001b[0m \u001b[38;5;28;01mraise\u001b[39;00m \u001b[38;5;167;01mNotImplementedError\u001b[39;00m(msg \u001b[38;5;241m%\u001b[39m func_name)\n",
      "\u001b[0;31mNotImplementedError\u001b[0m: 'item' is not yet a valid method on dask arrays"
     ]
    }
   ],
   "source": [
    "import xarray as xr\n",
    "\n",
    "# Zarr 데이터셋 열기\n",
    "ds = xr.open_zarr('/media/user/z/minchan/era5/GC_ERA5/GC_ERA5.zarr')\n",
    "\n",
    "# 전체 NaN 비율 계산\n",
    "nan_count = 0\n",
    "total_count = 0\n",
    "\n",
    "for var_name in ds.data_vars:\n",
    "    data = ds[var_name]\n",
    "    # Dask 배열에서 NaN 값 계산\n",
    "    nan_count += data.isnull().sum().compute()  # .compute()를 추가\n",
    "    total_count += data.size  # 전체 데이터 개수 합산\n",
    "\n",
    "nan_ratio = nan_count / total_count\n",
    "\n",
    "print(f\"전체 NaN 비율: {nan_ratio * 100:.2f}%\")\n"
   ]
  },
  {
   "cell_type": "code",
   "execution_count": null,
   "metadata": {},
   "outputs": [],
   "source": []
  }
 ],
 "metadata": {
  "kernelspec": {
   "display_name": "graphcast",
   "language": "python",
   "name": "python3"
  },
  "language_info": {
   "codemirror_mode": {
    "name": "ipython",
    "version": 3
   },
   "file_extension": ".py",
   "mimetype": "text/x-python",
   "name": "python",
   "nbconvert_exporter": "python",
   "pygments_lexer": "ipython3",
   "version": "3.10.13"
  }
 },
 "nbformat": 4,
 "nbformat_minor": 2
}
